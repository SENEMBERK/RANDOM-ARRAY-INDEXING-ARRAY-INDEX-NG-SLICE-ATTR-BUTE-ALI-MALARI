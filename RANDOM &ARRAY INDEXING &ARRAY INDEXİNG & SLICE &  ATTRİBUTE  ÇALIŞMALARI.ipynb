{
 "cells": [
  {
   "cell_type": "markdown",
   "metadata": {
    "id": "dCB6JOxTqkGS"
   },
   "source": [
    "**Recap_S2_Attribute_Index_Slice_01_08_22**"
   ]
  },
  {
   "cell_type": "code",
   "execution_count": null,
   "metadata": {
    "id": "SIwaaDbyackn"
   },
   "outputs": [],
   "source": [
    "import numpy as np"
   ]
  },
  {
   "cell_type": "code",
   "execution_count": null,
   "metadata": {
    "id": "daYYyN1pa3ex"
   },
   "outputs": [],
   "source": [
    "np.arange(0,10,2) # girilen değerler arasında eleman üretir (start:, stop:, step:)"
   ]
  },
  {
   "cell_type": "code",
   "execution_count": null,
   "metadata": {
    "id": "ANoOvRjCa3cz"
   },
   "outputs": [],
   "source": [
    "np.linspace(1,20,num = 2) # girilen değerleri num parametresi kadar eşit aralığa böler (start:, stop:, num:) stop dahil"
   ]
  },
  {
   "cell_type": "code",
   "execution_count": null,
   "metadata": {
    "id": "wzn1xgXxa3aK"
   },
   "outputs": [],
   "source": [
    "np.linspace(1,[5,10], 5) # stop liste içinde verildiğinde 1 - 5 arası ve 1 - 10 arası eleman üretir."
   ]
  },
  {
   "cell_type": "code",
   "execution_count": null,
   "metadata": {
    "colab": {
     "base_uri": "https://localhost:8080/"
    },
    "id": "Ngg64thedM3J",
    "outputId": "cebe2586-06b4-4d53-eeb2-0fc94a67ffa9"
   },
   "outputs": [
    {
     "data": {
      "text/plain": [
       "array([0, 0, 0, 0, 0, 0, 0, 0, 0, 0])"
      ]
     },
     "execution_count": 22,
     "metadata": {},
     "output_type": "execute_result"
    }
   ],
   "source": [
    "np.zeros(10, dtype= int)# girilen değer kadar sıfırlardan oluşan elemanlar üretir. dtype parametresi üretilecek eleman type'ı"
   ]
  },
  {
   "cell_type": "code",
   "execution_count": null,
   "metadata": {
    "colab": {
     "base_uri": "https://localhost:8080/"
    },
    "id": "8buYDy7-dM0h",
    "outputId": "4a137c7b-e66d-4b95-fefa-153b9174af9e"
   },
   "outputs": [
    {
     "data": {
      "text/plain": [
       "array([1, 1, 1, 1, 1, 1, 1, 1, 1, 1])"
      ]
     },
     "execution_count": 24,
     "metadata": {},
     "output_type": "execute_result"
    }
   ],
   "source": [
    "np.ones(10, dtype= int)# girilen değer kadar bir'lerden oluşan elemanlar üretir. dtype parametresi üretilecek eleman type'ı"
   ]
  },
  {
   "cell_type": "code",
   "execution_count": null,
   "metadata": {
    "colab": {
     "base_uri": "https://localhost:8080/"
    },
    "id": "un1QLzXmdMx5",
    "outputId": "05a1e4b9-dcc3-4500-a4e6-e3745ef64813"
   },
   "outputs": [
    {
     "data": {
      "text/plain": [
       "array(['test', 'test', 'test'], dtype='<U4')"
      ]
     },
     "execution_count": 28,
     "metadata": {},
     "output_type": "execute_result"
    }
   ],
   "source": [
    "np.full(3,\"test\") # girilen sayı ve değer kadar eleman üretir"
   ]
  },
  {
   "cell_type": "code",
   "execution_count": null,
   "metadata": {
    "id": "Ce4h_XvwebCg"
   },
   "outputs": [],
   "source": [
    "np.eye(5,5) # matris üretir"
   ]
  },
  {
   "cell_type": "code",
   "execution_count": null,
   "metadata": {
    "id": "u6d-fWKsdMtq"
   },
   "outputs": [],
   "source": []
  },
  {
   "cell_type": "markdown",
   "metadata": {
    "id": "jNwM-ToQeVqZ"
   },
   "source": [
    "**RANDOM**"
   ]
  },
  {
   "cell_type": "code",
   "execution_count": null,
   "metadata": {
    "id": "bsP7EbdqeY0j"
   },
   "outputs": [],
   "source": [
    "np.random.rand(2,1,2) # uniform(olasılık oranı sabit) rastgele elemanlar üretir (num, size(satır, sutun))"
   ]
  },
  {
   "cell_type": "code",
   "execution_count": null,
   "metadata": {
    "id": "Vse0i6sefk6g"
   },
   "outputs": [],
   "source": [
    "np.random.randn(1,3,4) #normal dağılıma(normal dist.) rastgele elemanlar üretir (num, size(satır, sutun))"
   ]
  },
  {
   "cell_type": "markdown",
   "metadata": {
    "id": "N_szkLruhcIQ"
   },
   "source": []
  },
  {
   "cell_type": "code",
   "execution_count": null,
   "metadata": {
    "colab": {
     "base_uri": "https://localhost:8080/"
    },
    "id": "nG8o-8RIfk3x",
    "outputId": "f21440f5-d592-44cb-c86e-ca866ce4dd7b"
   },
   "outputs": [
    {
     "data": {
      "text/plain": [
       "array([[ 5, 13],\n",
       "       [ 5, 11]])"
      ]
     },
     "execution_count": 69,
     "metadata": {},
     "output_type": "execute_result"
    }
   ],
   "source": [
    "np.random.randint(1, [10,20], size= (2,2)) # rastgele  \"int\" elemanlar üretir (num, size(satır, sutun))"
   ]
  },
  {
   "cell_type": "markdown",
   "metadata": {
    "id": "U7m-heDvikKJ"
   },
   "source": [
    "## **Array Attribute**"
   ]
  },
  {
   "cell_type": "code",
   "execution_count": null,
   "metadata": {
    "id": "5LbLXT2Eivdh"
   },
   "outputs": [],
   "source": [
    "arr = np.arange(10)\n",
    "arr"
   ]
  },
  {
   "cell_type": "code",
   "execution_count": null,
   "metadata": {
    "id": "3mTFcVwPicjp"
   },
   "outputs": [],
   "source": [
    "arr.shape # numpy array eleman sayısını verir"
   ]
  },
  {
   "cell_type": "code",
   "execution_count": null,
   "metadata": {
    "id": "EFSacd4GichK"
   },
   "outputs": [],
   "source": [
    "arr.reshape(2,5) # dizinin şeklini değiştirmeden boyutnu değiştir. arka planda yeni boyut varmış gibi davranır. girilen değerlerin çarpımı array eleman sayısna eşit olmalıdır."
   ]
  },
  {
   "cell_type": "code",
   "execution_count": null,
   "metadata": {
    "id": "rQkxEFsricej"
   },
   "outputs": [],
   "source": [
    "arr.max() # array max. value"
   ]
  },
  {
   "cell_type": "code",
   "execution_count": null,
   "metadata": {
    "id": "ilHV9kgZjj35"
   },
   "outputs": [],
   "source": [
    "arr.min() # array min. value"
   ]
  },
  {
   "cell_type": "code",
   "execution_count": null,
   "metadata": {
    "id": "JSQfNXn5jne5"
   },
   "outputs": [],
   "source": [
    "arr.argmax() # array max. value index numarası"
   ]
  },
  {
   "cell_type": "code",
   "execution_count": null,
   "metadata": {
    "id": "mRYzvk5Cj5Wg"
   },
   "outputs": [],
   "source": [
    "arr.dtype # array eleman type"
   ]
  },
  {
   "cell_type": "code",
   "execution_count": null,
   "metadata": {
    "id": "y2jPB9Nij5UY"
   },
   "outputs": [],
   "source": [
    "arr.ndim # array boyut sayısı"
   ]
  },
  {
   "cell_type": "code",
   "execution_count": null,
   "metadata": {
    "id": "hpvP9ns7j5R7"
   },
   "outputs": [],
   "source": [
    "arr.size # array eleman sayısı"
   ]
  },
  {
   "cell_type": "code",
   "execution_count": null,
   "metadata": {
    "id": "mOck9KNVj5PS"
   },
   "outputs": [],
   "source": [
    "arr.itemsize  # array eleman boyut"
   ]
  },
  {
   "cell_type": "markdown",
   "metadata": {
    "id": "zKj5QWxEkfZJ"
   },
   "source": [
    "**ARRAY INDEXING & SLICE**"
   ]
  },
  {
   "cell_type": "code",
   "execution_count": null,
   "metadata": {
    "id": "Q_NhpwtHknIp"
   },
   "outputs": [],
   "source": [
    "a = np.arange(1,26).reshape(5,5)\n",
    "a"
   ]
  },
  {
   "cell_type": "code",
   "execution_count": null,
   "metadata": {
    "id": "SIdyp8uhm8AQ"
   },
   "outputs": [],
   "source": [
    "a = np.arange(1,26) # 1D array python index ve slice ile aynı"
   ]
  },
  {
   "cell_type": "code",
   "execution_count": null,
   "metadata": {
    "id": "qyJB0cFImYnJ"
   },
   "outputs": [],
   "source": [
    "a[1:, 2:4] # 2D array satır ve sutunlar seklinde seçme. 1 = satır index 2 = sutun index"
   ]
  },
  {
   "cell_type": "code",
   "execution_count": null,
   "metadata": {
    "id": "YS-C664UoGs6"
   },
   "outputs": [],
   "source": [
    "b = a[a>5] # condition işlemleri uygulanabilir.\n",
    "b"
   ]
  },
  {
   "cell_type": "code",
   "execution_count": null,
   "metadata": {
    "id": "zPsNiubIozph"
   },
   "outputs": [],
   "source": [
    "a < 4 # array'in elamanlarında condition operatörüen uyan değer true uymanay false"
   ]
  },
  {
   "cell_type": "code",
   "execution_count": null,
   "metadata": {
    "id": "A_pxQAX-pZmx"
   },
   "outputs": [],
   "source": [
    "a[(a> 15) | (a<5)] # condition operatörleri ile seçme"
   ]
  },
  {
   "cell_type": "code",
   "execution_count": null,
   "metadata": {
    "id": "a-47ssydnM3J"
   },
   "outputs": [],
   "source": [
    "x = np.arange(1,11)\n",
    "y = np.arange(1,5)"
   ]
  },
  {
   "cell_type": "code",
   "execution_count": null,
   "metadata": {
    "id": "BLvXiHdbnvm5"
   },
   "outputs": [],
   "source": [
    "x"
   ]
  },
  {
   "cell_type": "code",
   "execution_count": null,
   "metadata": {
    "id": "2jRCUFP6nxCx"
   },
   "outputs": [],
   "source": [
    "y"
   ]
  },
  {
   "cell_type": "code",
   "execution_count": null,
   "metadata": {
    "id": "ita9k7BNp5iw"
   },
   "outputs": [],
   "source": [
    "mat1 = np.arange(1,11)\n",
    "mat2 = np.arange(1,11)"
   ]
  },
  {
   "cell_type": "code",
   "execution_count": null,
   "metadata": {
    "id": "CKQ0ftvAqGVR"
   },
   "outputs": [],
   "source": [
    "mat1*mat2 # matematiksel işlemler uygulanabilir."
   ]
  },
  {
   "cell_type": "code",
   "execution_count": null,
   "metadata": {
    "id": "J_n02R8cpAuh"
   },
   "outputs": [],
   "source": [
    "np.concatenate((x,y)) # iki farklı array'i birleştirme"
   ]
  }
 ],
 "metadata": {
  "colab": {
   "collapsed_sections": [],
   "name": "Recap_S2_Attribute_Index_Slice_01_08_22.ipynb",
   "provenance": []
  },
  "kernelspec": {
   "display_name": "Python 3 (ipykernel)",
   "language": "python",
   "name": "python3"
  },
  "language_info": {
   "codemirror_mode": {
    "name": "ipython",
    "version": 3
   },
   "file_extension": ".py",
   "mimetype": "text/x-python",
   "name": "python",
   "nbconvert_exporter": "python",
   "pygments_lexer": "ipython3",
   "version": "3.9.12"
  }
 },
 "nbformat": 4,
 "nbformat_minor": 1
}
